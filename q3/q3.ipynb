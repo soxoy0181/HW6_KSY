{
 "cells": [
  {
   "cell_type": "code",
   "execution_count": 30,
   "metadata": {},
   "outputs": [
    {
     "data": {
      "image/png": "[encoded data removed]",
      "text/plain": [
       "<Figure size 432x288 with 4 Axes>"
      ]
     },
     "metadata": {},
     "output_type": "display_data"
    },
    {
     "name": "stdout",
     "output_type": "stream",
     "text": [
      "2010년부터 2022년까지 4년 단위로 제주특별자치도의 남성, 여성의 비율을 나타낸 결과입니다.\n",
      "제주도에는 여성의 비율이 더 높다는 속설과는 달리 대부분의 해에서 남성의 비율이 더 큰 것을 볼 수 있습니다.\n",
      "따라서 해당 속설은 잘못된 속설입니다.\n"
     ]
    }
   ],
   "source": [
    "import matplotlib.pyplot as plt\n",
    "import csv\n",
    "\n",
    "if __name__ == '__main__':\n",
    "    jeju = {}\n",
    "    \n",
    "    year=2010\n",
    "    for i in range(4):\n",
    "        f = open('{0:d} 제주도.csv'.format(year),'r',encoding=\"ISO-8859-1\")\n",
    "        data = csv.reader(f,delimiter=',')\n",
    "        \n",
    "        #header\n",
    "        header = next(data)\n",
    "        \n",
    "        row = next(data)\n",
    "        #row[3]:남자, row[4]:여자\n",
    "        jeju[year] = [int(row[3]),int(row[4])]\n",
    "        \n",
    "        f.close()\n",
    "        year += 4\n",
    "        \n",
    "    #graph\n",
    "    year=2010\n",
    "    label=['male','female']\n",
    "    plt.figure()\n",
    "    for i in range(4):\n",
    "        plt.subplot(1,4,i+1)\n",
    "        plt.title(year)\n",
    "        plt.pie(jeju[year],labels=label,autopct='%.1f%%')\n",
    "            \n",
    "        year+=4\n",
    "    \n",
    "    plt.show()\n",
    "    \n",
    "    \n",
    "    print(\"2010년부터 2022년까지 4년 단위로 제주특별자치도의 남성, 여성의 비율을 나타낸 결과입니다.\")\n",
    "    print(\"제주도에는 여성의 비율이 더 높다는 속설과는 달리 대부분의 해에서 남성의 비율이 더 큰 것을 볼 수 있습니다.\")\n",
    "    print(\"따라서 해당 속설은 잘못된 속설입니다.\")"
   ]
  },
  {
   "cell_type": "code",
   "execution_count": null,
   "metadata": {},
   "outputs": [],
   "source": []
  }
 ],
 "metadata": {
  "kernelspec": {
   "display_name": "Python 3",
   "language": "python",
   "name": "python3"
  },
  "language_info": {
   "codemirror_mode": {
    "name": "ipython",
    "version": 3
   },
   "file_extension": ".py",
   "mimetype": "text/x-python",
   "name": "python",
   "nbconvert_exporter": "python",
   "pygments_lexer": "ipython3",
   "version": "3.8.5"
  }
 },
 "nbformat": 4,
 "nbformat_minor": 4
}
